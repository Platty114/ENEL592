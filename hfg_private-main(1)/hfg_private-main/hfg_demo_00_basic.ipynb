{
 "cells": [
  {
   "cell_type": "code",
   "execution_count": 1,
   "id": "18f562c3-9796-45f5-886c-7c5e19173d5e",
   "metadata": {},
   "outputs": [
    {
     "name": "stdout",
     "output_type": "stream",
     "text": [
      "Collecting pyslang==3.0.310\n",
      "  Using cached pyslang-3.0.310.tar.gz (1.1 MB)\n",
      "  Installing build dependencies ... \u001b[?25ldone\n",
      "\u001b[?25h  Getting requirements to build wheel ... \u001b[?25ldone\n",
      "\u001b[?25h  Preparing metadata (pyproject.toml) ... \u001b[?25ldone\n",
      "\u001b[?25hBuilding wheels for collected packages: pyslang\n",
      "  Building wheel for pyslang (pyproject.toml) ... \u001b[?25ldone\n",
      "\u001b[?25h  Created wheel for pyslang: filename=pyslang-3.0.310-cp312-cp312-linux_x86_64.whl size=3674814 sha256=e69f5821ecda9d9d68d75f72811c587692f306757682d85380eabfb77f541e7f\n",
      "  Stored in directory: /home/jamesp/.cache/pip/wheels/8e/66/25/14a0c4957af50e08b7df18d1699a677391a3b56009f5bb3df9\n",
      "Successfully built pyslang\n",
      "Installing collected packages: pyslang\n",
      "Successfully installed pyslang-3.0.310\n",
      "\n",
      "\u001b[1m[\u001b[0m\u001b[34;49mnotice\u001b[0m\u001b[1;39;49m]\u001b[0m\u001b[39;49m A new release of pip is available: \u001b[0m\u001b[31;49m24.2\u001b[0m\u001b[39;49m -> \u001b[0m\u001b[32;49m24.3.1\u001b[0m\n",
      "\u001b[1m[\u001b[0m\u001b[34;49mnotice\u001b[0m\u001b[1;39;49m]\u001b[0m\u001b[39;49m To update, run: \u001b[0m\u001b[32;49mpip install --upgrade pip\u001b[0m\n",
      "Note: you may need to restart the kernel to use updated packages.\n",
      "Requirement already satisfied: codetiming in ./.venv/lib/python3.12/site-packages (1.4.0)\n",
      "\n",
      "\u001b[1m[\u001b[0m\u001b[34;49mnotice\u001b[0m\u001b[1;39;49m]\u001b[0m\u001b[39;49m A new release of pip is available: \u001b[0m\u001b[31;49m24.2\u001b[0m\u001b[39;49m -> \u001b[0m\u001b[32;49m24.3.1\u001b[0m\n",
      "\u001b[1m[\u001b[0m\u001b[34;49mnotice\u001b[0m\u001b[1;39;49m]\u001b[0m\u001b[39;49m To update, run: \u001b[0m\u001b[32;49mpip install --upgrade pip\u001b[0m\n",
      "Note: you may need to restart the kernel to use updated packages.\n"
     ]
    }
   ],
   "source": [
    "%pip install pyslang==3.0.310\n",
    "%pip install codetiming"
   ]
  },
  {
   "cell_type": "code",
   "execution_count": 12,
   "id": "fd91e1b4-e3c3-46ae-927b-c84012b57c1e",
   "metadata": {
    "tags": []
   },
   "outputs": [],
   "source": [
    "import os\n",
    "from pprint import pprint\n",
    "from hfg_engine import HFG, HFGEdge"
   ]
  },
  {
   "cell_type": "code",
   "execution_count": 18,
   "id": "edd6354b-cd64-48ca-be6a-44e2d95cc354",
   "metadata": {
    "tags": []
   },
   "outputs": [],
   "source": [
    "path_to_flist_dir = \"./flists\"\n",
    "demos = [\n",
    "    (\"test_00.f\"            , \"./hfg_edges_test_00.pkl\"             ),\n",
    "    (\"test_01_FWRISC-MDS.f\" , \"./hfg_edges_fwrisc_mul_div_shift.pkl\"),\n",
    "    (\"test_02_cva6_serdiv.f\", \"./hfg_edges_serdiv.pkl\"              ),\n",
    "    (\"test_custom_01.f\"     , \"./hfg_edges_test_custom_01_top.pkl\"  ),\n",
    "]\n",
    "\n",
    "for curr_flist, curr_pkl in demos:\n",
    "    HFG(os.path.join(path_to_flist_dir, curr_flist))\n",
    "\n",
    "#Leave this set to 2 for proper execution of the cells below\n",
    "demo_index = 2\n",
    "\n",
    "demo_hfg_a = HFG(os.path.join(path_to_flist_dir, demos[demo_index][0])) #Build HFG from scratch using RTL \n",
    "demo_hfg_b = HFG(\"\", i_fp_to_hfg_pickle_file=demos[demo_index][1])      #Build HFG from saved pickle/serialization file\n",
    "\n",
    "assert demo_hfg_a == demo_hfg_b"
   ]
  },
  {
   "cell_type": "code",
   "execution_count": 19,
   "id": "bab31fcd-a4af-46c2-83eb-dfb325a4e752",
   "metadata": {
    "tags": []
   },
   "outputs": [
    {
     "data": {
      "text/plain": [
       "{'ariane_pkg::data_align.data',\n",
       " 'ariane_pkg::data_align.data_tmp',\n",
       " 'ariane_pkg::is_inside_cacheable_regions.address',\n",
       " 'ariane_pkg::is_inside_cacheable_regions.pass',\n",
       " 'ariane_pkg::is_inside_execute_regions.address',\n",
       " 'ariane_pkg::is_inside_execute_regions.pass',\n",
       " 'ariane_pkg::is_inside_nonidempotent_regions.address',\n",
       " 'ariane_pkg::is_inside_nonidempotent_regions.pass',\n",
       " 'cf_math_pkg::ceil_div.dividend',\n",
       " 'cf_math_pkg::ceil_div.divisor',\n",
       " 'cf_math_pkg::ceil_div.remainder',\n",
       " 'serdiv.DIVIDE',\n",
       " 'serdiv.FINISH',\n",
       " 'serdiv.IDLE',\n",
       " 'serdiv.WIDTH',\n",
       " 'serdiv.a_reg_en',\n",
       " 'serdiv.ab_comp',\n",
       " 'serdiv.add_mux',\n",
       " 'serdiv.add_out',\n",
       " 'serdiv.add_tmp',\n",
       " 'serdiv.b_mux',\n",
       " 'serdiv.b_reg_en',\n",
       " 'serdiv.cnt_d',\n",
       " 'serdiv.cnt_q',\n",
       " 'serdiv.cnt_zero',\n",
       " 'serdiv.comp_inv_d',\n",
       " 'serdiv.comp_inv_q',\n",
       " 'serdiv.div_res_zero_d',\n",
       " 'serdiv.div_res_zero_q',\n",
       " 'serdiv.div_shift',\n",
       " 'serdiv.flush_i',\n",
       " 'serdiv.i_lzc_a.WIDTH',\n",
       " 'serdiv.i_lzc_a.cnt_o',\n",
       " 'serdiv.i_lzc_a.empty_o',\n",
       " 'serdiv.i_lzc_a.gen_lzc.in_tmp',\n",
       " 'serdiv.i_lzc_a.gen_lzc.index_lut',\n",
       " 'serdiv.i_lzc_a.gen_lzc.index_nodes',\n",
       " 'serdiv.i_lzc_a.gen_lzc.sel_nodes',\n",
       " 'serdiv.i_lzc_a.in_i',\n",
       " 'serdiv.i_lzc_b.WIDTH',\n",
       " 'serdiv.i_lzc_b.cnt_o',\n",
       " 'serdiv.i_lzc_b.empty_o',\n",
       " 'serdiv.i_lzc_b.gen_lzc.in_tmp',\n",
       " 'serdiv.i_lzc_b.gen_lzc.index_lut',\n",
       " 'serdiv.i_lzc_b.gen_lzc.index_nodes',\n",
       " 'serdiv.i_lzc_b.gen_lzc.sel_nodes',\n",
       " 'serdiv.i_lzc_b.in_i',\n",
       " 'serdiv.id_d',\n",
       " 'serdiv.id_i',\n",
       " 'serdiv.id_o',\n",
       " 'serdiv.id_q',\n",
       " 'serdiv.in_rdy_o',\n",
       " 'serdiv.in_vld_i',\n",
       " 'serdiv.load_en',\n",
       " 'serdiv.lzc_a_input',\n",
       " 'serdiv.lzc_a_no_one',\n",
       " 'serdiv.lzc_a_result',\n",
       " 'serdiv.lzc_b_input',\n",
       " 'serdiv.lzc_b_no_one',\n",
       " 'serdiv.lzc_b_result',\n",
       " 'serdiv.op_a_d',\n",
       " 'serdiv.op_a_i',\n",
       " 'serdiv.op_a_q',\n",
       " 'serdiv.op_a_sign',\n",
       " 'serdiv.op_b',\n",
       " 'serdiv.op_b_d',\n",
       " 'serdiv.op_b_i',\n",
       " 'serdiv.op_b_q',\n",
       " 'serdiv.op_b_sign',\n",
       " 'serdiv.op_b_zero',\n",
       " 'serdiv.op_b_zero_d',\n",
       " 'serdiv.op_b_zero_q',\n",
       " 'serdiv.opcode_i',\n",
       " 'serdiv.out_mux',\n",
       " 'serdiv.out_rdy_i',\n",
       " 'serdiv.out_vld_o',\n",
       " 'serdiv.pm_sel',\n",
       " 'serdiv.rem_sel_d',\n",
       " 'serdiv.rem_sel_q',\n",
       " 'serdiv.res_d',\n",
       " 'serdiv.res_inv_d',\n",
       " 'serdiv.res_inv_q',\n",
       " 'serdiv.res_o',\n",
       " 'serdiv.res_q',\n",
       " 'serdiv.res_reg_en',\n",
       " 'serdiv.rst_ni',\n",
       " 'serdiv.shift_a',\n",
       " 'serdiv.state_d',\n",
       " 'serdiv.state_q'}"
      ]
     },
     "execution_count": 19,
     "metadata": {},
     "output_type": "execute_result"
    }
   ],
   "source": [
    "demo_hfg_a.get_signals()"
   ]
  },
  {
   "cell_type": "code",
   "execution_count": 20,
   "id": "0ba9018e-25d9-4989-8df4-64ac2ae4b6ad",
   "metadata": {
    "tags": []
   },
   "outputs": [
    {
     "name": "stdout",
     "output_type": "stream",
     "text": [
      "{'serdiv.a_reg_en',\n",
      " 'serdiv.ab_comp',\n",
      " 'serdiv.add_mux',\n",
      " 'serdiv.add_out',\n",
      " 'serdiv.add_tmp',\n",
      " 'serdiv.b_mux',\n",
      " 'serdiv.b_reg_en',\n",
      " 'serdiv.cnt_d',\n",
      " 'serdiv.cnt_q',\n",
      " 'serdiv.cnt_zero',\n",
      " 'serdiv.comp_inv_d',\n",
      " 'serdiv.comp_inv_q',\n",
      " 'serdiv.div_res_zero_d',\n",
      " 'serdiv.div_res_zero_q',\n",
      " 'serdiv.div_shift',\n",
      " 'serdiv.i_lzc_b.cnt_o',\n",
      " 'serdiv.i_lzc_b.empty_o',\n",
      " 'serdiv.i_lzc_b.in_i',\n",
      " 'serdiv.lzc_b_input',\n",
      " 'serdiv.lzc_b_no_one',\n",
      " 'serdiv.lzc_b_result',\n",
      " 'serdiv.op_a_d',\n",
      " 'serdiv.op_a_q',\n",
      " 'serdiv.op_b',\n",
      " 'serdiv.op_b_d',\n",
      " 'serdiv.op_b_q',\n",
      " 'serdiv.op_b_sign',\n",
      " 'serdiv.op_b_zero',\n",
      " 'serdiv.op_b_zero_d',\n",
      " 'serdiv.op_b_zero_q',\n",
      " 'serdiv.out_mux',\n",
      " 'serdiv.out_vld_o',\n",
      " 'serdiv.pm_sel',\n",
      " 'serdiv.res_d',\n",
      " 'serdiv.res_inv_d',\n",
      " 'serdiv.res_inv_q',\n",
      " 'serdiv.res_o',\n",
      " 'serdiv.res_q',\n",
      " 'serdiv.res_reg_en',\n",
      " 'serdiv.state_d',\n",
      " 'serdiv.state_q'}\n"
     ]
    }
   ],
   "source": [
    "results_a_sigs, results_a_path_to_sigs = demo_hfg_a.get_descendant_signals_and_paths(\"serdiv.op_b_i\", False)\n",
    "pprint(results_a_sigs)"
   ]
  },
  {
   "cell_type": "code",
   "execution_count": 21,
   "id": "138c294b-1a8f-45b6-b82f-9f708416d246",
   "metadata": {
    "tags": []
   },
   "outputs": [
    {
     "name": "stdout",
     "output_type": "stream",
     "text": [
      "{'serdiv.WIDTH',\n",
      " 'serdiv.div_res_zero_d',\n",
      " 'serdiv.div_res_zero_q',\n",
      " 'serdiv.div_shift',\n",
      " 'serdiv.flush_i',\n",
      " 'serdiv.i_lzc_a.WIDTH',\n",
      " 'serdiv.i_lzc_a.cnt_o',\n",
      " 'serdiv.i_lzc_a.empty_o',\n",
      " 'serdiv.i_lzc_a.in_i',\n",
      " 'serdiv.i_lzc_b.WIDTH',\n",
      " 'serdiv.i_lzc_b.cnt_o',\n",
      " 'serdiv.i_lzc_b.empty_o',\n",
      " 'serdiv.i_lzc_b.in_i',\n",
      " 'serdiv.in_vld_i',\n",
      " 'serdiv.load_en',\n",
      " 'serdiv.lzc_a_input',\n",
      " 'serdiv.lzc_a_no_one',\n",
      " 'serdiv.lzc_a_result',\n",
      " 'serdiv.lzc_b_input',\n",
      " 'serdiv.lzc_b_no_one',\n",
      " 'serdiv.lzc_b_result',\n",
      " 'serdiv.op_a_i',\n",
      " 'serdiv.op_a_sign',\n",
      " 'serdiv.op_b_i',\n",
      " 'serdiv.op_b_sign',\n",
      " 'serdiv.opcode_i',\n",
      " 'serdiv.rst_ni',\n",
      " 'serdiv.shift_a'}\n"
     ]
    }
   ],
   "source": [
    "results_b_sigs, results_b_path_to_sigs = demo_hfg_a.get_ancestor_signals_and_paths(\"serdiv.out_vld_o\", False)\n",
    "pprint(results_b_sigs)"
   ]
  },
  {
   "cell_type": "code",
   "execution_count": 22,
   "id": "9c8183c3-556c-470a-85b0-fe7cb809be69",
   "metadata": {
    "tags": []
   },
   "outputs": [
    {
     "name": "stdout",
     "output_type": "stream",
     "text": [
      "{'serdiv.div_res_zero_d',\n",
      " 'serdiv.div_res_zero_q',\n",
      " 'serdiv.div_shift',\n",
      " 'serdiv.i_lzc_b.cnt_o',\n",
      " 'serdiv.i_lzc_b.empty_o',\n",
      " 'serdiv.i_lzc_b.in_i',\n",
      " 'serdiv.lzc_b_input',\n",
      " 'serdiv.lzc_b_no_one',\n",
      " 'serdiv.lzc_b_result',\n",
      " 'serdiv.op_b_sign'}\n"
     ]
    }
   ],
   "source": [
    "overlapping_sigs = results_a_sigs.intersection(results_b_sigs)\n",
    "pprint(overlapping_sigs)"
   ]
  },
  {
   "cell_type": "code",
   "execution_count": 23,
   "id": "8a5c6856-7b81-4a58-b21a-dda7aa925c57",
   "metadata": {
    "tags": []
   },
   "outputs": [
    {
     "name": "stdout",
     "output_type": "stream",
     "text": [
      "[[(' (opcode_i[0] & op_b_sign)', False)],\n",
      " [],\n",
      " [],\n",
      " [],\n",
      " [(' (lzc_b_no_one)', False)],\n",
      " [(' (load_en)', True)],\n",
      " [('~rst_ni', False)],\n",
      " []]\n"
     ]
    }
   ],
   "source": [
    "paths = demo_hfg_a.get_paths(\"serdiv.op_b_i\", \"serdiv.out_vld_o\")\n",
    "conds = [[edge.conds for edge in p] for p in paths]\n",
    "pprint(conds[0])"
   ]
  },
  {
   "cell_type": "code",
   "execution_count": 29,
   "id": "93ce4c6f-9c3a-4124-865c-715f64bfc235",
   "metadata": {
    "tags": []
   },
   "outputs": [
    {
     "name": "stdout",
     "output_type": "stream",
     "text": [
      "┌──────────────────────────────┐\n",
      "│  HyperFlow Graph Edge Info.  │\n",
      "├──────────────────────────────┤\n",
      "╞═ HFG Edge/Flow ID           ═╪═ '43'\n",
      "╞═ HFG Edge/Flow Type         ═╪═ 'Explicit'\n",
      "╞═ Necessary Conditions       ═╪═ [(' (opcode_i[0] & op_b_sign)', False)]\n",
      "╞═ Source      Signal (Head)  ═╪═ 'serdiv.op_b_i'\n",
      "╞═ Destination Signal (Tail)  ═╪═ 'serdiv.lzc_b_input'\n",
      "╞═ Source Assignment (SA)     ═╪═ 'lzc_b_input = (opcode_i[0] & op_b_sign) ? ~op_b_i         : op_b_i'\n",
      "╞═ SA Location - Start File   ═╪═ 'rtl/CVA6-serdiv/serdiv.sv'\n",
      "╞═ SA Location - Start Line   ═╪═ '87'\n",
      "╞═ SA Location - Start Column ═╪═ '10'\n",
      "╞═ SA Location - End   File   ═╪═ 'rtl/CVA6-serdiv/serdiv.sv'\n",
      "╞═ SA Location - End   Line   ═╪═ '87'\n",
      "╞═ SA Location - End   Column ═╪═ '76'\n",
      "└──────────────────────────────┘\n",
      "\n"
     ]
    }
   ],
   "source": [
    "print(HFGEdge(demo_hfg_a.__hfg__['serdiv.op_b_i']['serdiv.lzc_b_input'][0]))"
   ]
  },
  {
   "cell_type": "code",
   "execution_count": null,
   "id": "17fa43c2-19b8-4b6f-81e4-dd9f62541ae3",
   "metadata": {},
   "outputs": [],
   "source": []
  }
 ],
 "metadata": {
  "kernelspec": {
   "display_name": "Python 3 (ipykernel)",
   "language": "python",
   "name": "python3"
  },
  "language_info": {
   "codemirror_mode": {
    "name": "ipython",
    "version": 3
   },
   "file_extension": ".py",
   "mimetype": "text/x-python",
   "name": "python",
   "nbconvert_exporter": "python",
   "pygments_lexer": "ipython3",
   "version": "3.12.7"
  }
 },
 "nbformat": 4,
 "nbformat_minor": 5
}
